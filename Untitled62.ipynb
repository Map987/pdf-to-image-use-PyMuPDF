{
  "nbformat": 4,
  "nbformat_minor": 0,
  "metadata": {
    "colab": {
      "provenance": [],
      "authorship_tag": "ABX9TyNWtZ1t3MULp7Zb0rvCGF8l",
      "include_colab_link": true
    },
    "kernelspec": {
      "name": "python3",
      "display_name": "Python 3"
    },
    "language_info": {
      "name": "python"
    }
  },
  "cells": [
    {
      "cell_type": "markdown",
      "metadata": {
        "id": "view-in-github",
        "colab_type": "text"
      },
      "source": [
        "<a href=\"https://colab.research.google.com/github/Map987/pdf-to-image-use-PyMuPDF/blob/main/Untitled62.ipynb\" target=\"_parent\"><img src=\"https://colab.research.google.com/assets/colab-badge.svg\" alt=\"Open In Colab\"/></a>"
      ]
    },
    {
      "cell_type": "code",
      "source": [
        "!pip install fitz\n",
        "!pip install PyMuPDF"
      ],
      "metadata": {
        "id": "KmR2RpG8YmLF"
      },
      "execution_count": null,
      "outputs": []
    },
    {
      "cell_type": "code",
      "execution_count": null,
      "metadata": {
        "id": "yf5SHDAbXscR"
      },
      "outputs": [],
      "source": [
        "\n",
        "import fitz\n",
        "doc = fitz.open(\"/content/prtimes_shizuoka.pdf\")\n",
        "for i in range(len(doc)):\n",
        "    for img in doc.get_page_images(i):\n",
        "        xref = img[0]\n",
        "        pix = fitz.Pixmap(doc, xref)\n",
        "        if pix.n - pix.alpha < 4:       # this is GRAY or RGB\n",
        "            pix.save(\"p%s-%s.png\" % (i, xref))\n",
        "        else:               # CMYK: convert to RGB first\n",
        "            pix1 = fitz.Pixmap(fitz.csRGB, pix)\n",
        "            pix1.save(\"p%s-%s.png\" % (i, xref))\n",
        "            pix1 = None\n",
        "        pix = None"
      ]
    }
  ]
}